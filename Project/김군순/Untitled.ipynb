{
 "cells": [
  {
   "cell_type": "code",
   "execution_count": 38,
   "id": "49ab06c6",
   "metadata": {},
   "outputs": [
    {
     "name": "stdout",
     "output_type": "stream",
     "text": [
      "[{'x1': 385, 'y1': 589, 'x2': 264, 'y2': 715, 'x3': 280, 'y3': 875, 'x4': 332, 'y4': 1040, 'x5': 411, 'y5': 1061, 'x6': 516, 'y6': 1035, 'x7': 568, 'y7': 907, 'x8': 592, 'y8': 773, 'x9': 540, 'y9': 639, 'x10': 385, 'y10': 589}]\n",
      "Label: A7_무증상\n",
      "Extracted Features: <PIL.Image.Image image mode=RGB size=0x0 at 0x2BE2279D450>\n"
     ]
    }
   ],
   "source": [
    "# 제공된 JSON 데이터 구조에 맞춰 이미지 특성 추출 및 라벨과 좌표 추출 함수를 수정합니다.\n",
    "\n",
    "from PIL import Image\n",
    "import json\n",
    "\n",
    "# 이미지 특성 추출 함수\n",
    "def extract_features(image_path, coordinates, shape_type):\n",
    "    image = Image.open(image_path)\n",
    "    \n",
    "    if shape_type == 'polygon':\n",
    "        # 다각형의 경우 모든 좌표를 사용하여 최소 경계 사각형을 계산합니다.\n",
    "        x_coords = [coord[f'x{i}'] for i, coord in enumerate(coordinates, start=1)]\n",
    "        y_coords = [coord[f'y{i}'] for i, coord in enumerate(coordinates, start=1)]\n",
    "        min_x, max_x = min(x_coords), max(x_coords)\n",
    "        min_y, max_y = min(y_coords), max(y_coords)\n",
    "        # 최소 경계 사각형을 사용하여 이미지를 자릅니다.\n",
    "        cropped_image = image.crop((min_x, min_y, max_x, max_y))\n",
    "    elif shape_type == 'box':\n",
    "        # 사각형의 경우 직접 좌표를 사용하여 이미지를 잘라냅니다.\n",
    "        box = coordinates[0]  # 첫 번째 딕셔너리 사용\n",
    "        # 직접 좌표를 사용하여 이미지를 자릅니다.\n",
    "        cropped_image = image.crop((box['x'], box['y'], box['x'] + box['width'], box['y'] + box['height']))\n",
    "    else:\n",
    "        raise ValueError(\"Invalid shape type provided for feature extraction.\")\n",
    "    \n",
    "    return cropped_image\n",
    "\n",
    "# JSON 파일에서 라벨과 좌표를 추출하는 함수\n",
    "def extract_label_and_coordinates(json_data):\n",
    "    # labelingInfo 안의 항목들을 순회합니다.\n",
    "    for item in json_data['labelingInfo']:\n",
    "        if 'polygon' in item:\n",
    "            coordinates = item['polygon']['location']\n",
    "            label = item['polygon']['label']\n",
    "            return label, coordinates, 'polygon'\n",
    "        elif 'box' in item:\n",
    "            coordinates = item['box']['location'][0]\n",
    "            label = item['box']['label']\n",
    "            return label, coordinates, 'box'\n",
    "    raise ValueError(\"No valid 'polygon' or 'box' key found in JSON.\")\n",
    "\n",
    "# JSON 파일을 읽고 정보를 추출하는 함수\n",
    "# JSON 파일에서 라벨과 좌표를 추출하는 함수\n",
    "def extract_label_and_coordinates(json_data):\n",
    "    # labelingInfo 안의 항목들을 순회합니다.\n",
    "    for item in json_data['labelingInfo']:\n",
    "        if 'polygon' in item:\n",
    "            coordinates = item['polygon']['location']\n",
    "            label = item['polygon']['label']\n",
    "            return label, coordinates, 'polygon'\n",
    "        elif 'box' in item:\n",
    "            coordinates = item['box']['location']\n",
    "            label = item['box']['label']\n",
    "            return label, coordinates, 'box'\n",
    "    raise ValueError(\"No valid 'polygon' or 'box' key found in JSON.\")\n",
    "\n",
    "# JSON 파일을 읽고 정보를 추출하는 함수\n",
    "def read_json_and_extract_info(json_path):\n",
    "    with open(json_path, 'r', encoding='utf-8') as file:\n",
    "        json_data = json.load(file)\n",
    "        label, coordinates, shape_type = extract_label_and_coordinates(json_data)\n",
    "        return label, coordinates, shape_type\n",
    "    \n",
    "json_path = 'data/train/IMG_D_A7_207464.json'  # 실제 JSON 파일 경로로 변경\n",
    "image_path = 'data/train/IMG_D_A7_207464.jpg'      # 실제 이미지 파일 경로로 변경\n",
    "\n",
    "# JSON 파일로부터 라벨과 좌표를 추출\n",
    "label, coordinates, shape_type = read_json_and_extract_info(json_path)\n",
    "\n",
    "# 추출된 좌표로부터 이미지 특성을 추출\n",
    "cropped_image = extract_features(image_path, coordinates, shape_type)\n",
    "print(coordinates)\n",
    "# 결과를 확인합니다.\n",
    "print(\"Label:\", label)\n",
    "print(\"Extracted Features:\", cropped_image)"
   ]
  },
  {
   "cell_type": "code",
   "execution_count": 37,
   "id": "c4fb383e",
   "metadata": {},
   "outputs": [
    {
     "data": {
      "text/plain": [
       "(1920, 1080)"
      ]
     },
     "execution_count": 37,
     "metadata": {},
     "output_type": "execute_result"
    }
   ],
   "source": [
    "from PIL import Image\n",
    "\n",
    "image_path = 'data/train/IMG_D_A7_207464.jpg'  # 이미지 파일 경로를 여기에 넣으세요.\n",
    "\n",
    "# 이미지 열기\n",
    "image = Image.open(image_path)\n",
    "\n",
    "# 이미지 크기 확인\n",
    "image_size = image.size\n",
    "image_size\n"
   ]
  },
  {
   "cell_type": "code",
   "execution_count": null,
   "id": "8bd934aa",
   "metadata": {},
   "outputs": [],
   "source": []
  }
 ],
 "metadata": {
  "kernelspec": {
   "display_name": "Python 3 (ipykernel)",
   "language": "python",
   "name": "python3"
  },
  "language_info": {
   "codemirror_mode": {
    "name": "ipython",
    "version": 3
   },
   "file_extension": ".py",
   "mimetype": "text/x-python",
   "name": "python",
   "nbconvert_exporter": "python",
   "pygments_lexer": "ipython3",
   "version": "3.11.3"
  }
 },
 "nbformat": 4,
 "nbformat_minor": 5
}
